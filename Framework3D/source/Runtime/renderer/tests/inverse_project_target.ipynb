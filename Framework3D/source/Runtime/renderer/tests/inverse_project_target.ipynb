{
 "cells": [
  {
   "cell_type": "code",
   "execution_count": null,
   "metadata": {},
   "outputs": [],
   "source": [
    "import os\n",
    "file_path = os.path.abspath(\".\")\n",
    "execution_path = os.path.abspath(f\"../../../../Binaries/Debug\")"
   ]
  },
  {
   "cell_type": "code",
   "execution_count": null,
   "metadata": {},
   "outputs": [],
   "source": [
    "import os\n",
    "os.chdir(file_path)\n",
    "import sys\n",
    "target_path = os.path.abspath(f\"../../../../Binaries/Debug\")\n",
    "sys.path.append(target_path)\n",
    "print(f\"Added {target_path} to sys.path\")\n",
    "package_path = os.path.abspath(f\"../python\")\n",
    "sys.path.append(package_path)\n",
    "print(f\"Added {package_path} to sys.path\")"
   ]
  },
  {
   "cell_type": "code",
   "execution_count": 94,
   "metadata": {},
   "outputs": [],
   "source": [
    "import hd_USTC_CG_py\n",
    "import numpy as np\n",
    "import torch\n",
    "import glints.shaderAB as shader\n",
    "import glints.renderer as renderer\n",
    "import glints.test_utils as test_utils\n",
    "import glints.rasterization as rasterization\n",
    "import imageio\n",
    "\n",
    "import importlib\n",
    "importlib.reload(rasterization)\n",
    "importlib.reload(renderer)\n",
    "\n",
    "def save_image(image, resolution, filename):\n",
    "    test_utils.save_image(image, resolution, filename)\n",
    "\n",
    "\n",
    "def test_bake_texture():\n",
    "    r = renderer.Renderer()\n",
    "    vertices, indices = renderer.plane_board_scene_vertices_and_indices()\n",
    "    vertex_buffer_stride = 5 * 4\n",
    "    resolution = [1536*2, 1024*2]\n",
    "    camera_position_np = np.array([4.0, 0, 2.5], dtype=np.float32)\n",
    "    r.set_camera_position(camera_position_np)\n",
    "    fov_in_degrees = 35\n",
    "    r.set_perspective(\n",
    "        np.pi * fov_in_degrees / 180.0, resolution[0] / resolution[1], 0.1, 1000.0\n",
    "    )\n",
    "    r.set_mesh(vertices, indices, vertex_buffer_stride)\n",
    "\n",
    "    uv_resolution = [768, 768]\n",
    "    uv_texture = r.target_bake_to_texture(\"targets/render_010.exr\", uv_resolution)\n",
    "    save_image(uv_texture, uv_resolution, \"baked_texture.exr\")"
   ]
  },
  {
   "cell_type": "code",
   "execution_count": 95,
   "metadata": {},
   "outputs": [],
   "source": [
    "os.chdir(execution_path)\n",
    "test_bake_texture()"
   ]
  },
  {
   "cell_type": "code",
   "execution_count": null,
   "metadata": {},
   "outputs": [],
   "source": []
  }
 ],
 "metadata": {
  "kernelspec": {
   "display_name": "Python 3",
   "language": "python",
   "name": "python3"
  },
  "language_info": {
   "codemirror_mode": {
    "name": "ipython",
    "version": 3
   },
   "file_extension": ".py",
   "mimetype": "text/x-python",
   "name": "python",
   "nbconvert_exporter": "python",
   "pygments_lexer": "ipython3",
   "version": "3.10.11"
  }
 },
 "nbformat": 4,
 "nbformat_minor": 2
}
