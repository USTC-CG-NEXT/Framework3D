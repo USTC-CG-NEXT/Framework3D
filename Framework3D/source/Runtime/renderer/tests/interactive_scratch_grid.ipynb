{
 "cells": [
  {
   "cell_type": "code",
   "execution_count": 1,
   "metadata": {},
   "outputs": [],
   "source": [
    "import os\n",
    "\n",
    "file_path = os.path.abspath(\".\")\n",
    "execution_path = os.path.abspath(f\"../../../../Binaries/Debug\")"
   ]
  },
  {
   "cell_type": "code",
   "execution_count": null,
   "metadata": {},
   "outputs": [],
   "source": [
    "import os\n",
    "\n",
    "os.chdir(file_path)\n",
    "import sys\n",
    "\n",
    "target_path = os.path.abspath(f\"../../../../Binaries/Debug\")\n",
    "sys.path.append(target_path)\n",
    "print(f\"Added {target_path} to sys.path\")\n",
    "package_path = os.path.abspath(f\"../python\")\n",
    "sys.path.append(package_path)\n",
    "print(f\"Added {package_path} to sys.path\")"
   ]
  },
  {
   "cell_type": "code",
   "execution_count": 3,
   "metadata": {},
   "outputs": [],
   "source": [
    "import glints.scratch_grid\n",
    "import glints.renderer\n",
    "import glints.test_utils as test_utils\n",
    "import torch\n",
    "import numpy as np\n",
    "import pytest"
   ]
  },
  {
   "cell_type": "code",
   "execution_count": null,
   "metadata": {},
   "outputs": [],
   "source": [
    "import importlib\n",
    "\n",
    "importlib.reload(glints.scratch_grid)"
   ]
  },
  {
   "cell_type": "code",
   "execution_count": 5,
   "metadata": {},
   "outputs": [],
   "source": [
    "def linear_to_gamma(image):\n",
    "    return image ** (1.0 / 2.2)\n",
    "\n",
    "\n",
    "def gamma_to_linear(image):\n",
    "    return image**2.2\n",
    "\n",
    "\n",
    "import matplotlib.pyplot as plt\n",
    "\n",
    "\n",
    "def save_images(field, resolution, divergence, smoothness):\n",
    "    for i in range(field.field.shape[2]):\n",
    "        test_utils.save_image(\n",
    "            1000 * divergence[:, :, i], resolution, f\"divergence_{i}.exr\"\n",
    "        )\n",
    "        test_utils.save_image(\n",
    "            100 * smoothness[:, :, i], resolution, f\"smoothness_{i}.exr\"\n",
    "        )\n",
    "\n",
    "        density = torch.norm(field.field[:, :, i], dim=2)\n",
    "        directions = field.field[:, :, i] / density.unsqueeze(2)\n",
    "        directions = torch.cat(\n",
    "            [directions, torch.zeros_like(directions[:, :, :1])], dim=2\n",
    "        )\n",
    "\n",
    "        test_utils.save_image(directions, resolution, f\"directions_{i}.exr\")\n",
    "        test_utils.save_image(density, resolution, f\"density_{i}.exr\")\n",
    "        test_utils.save_image(field.field[:, :, i, :1], resolution, f\"field_{i}.exr\")"
   ]
  },
  {
   "cell_type": "code",
   "execution_count": null,
   "metadata": {},
   "outputs": [],
   "source": [
    "os.chdir(execution_path)\n",
    "r = glints.renderer.Renderer()\n",
    "\n",
    "vertices, indices = glints.renderer.plane_board_scene_vertices_and_indices()\n",
    "camera_position_np = np.array([0.0, 0.0, 7], dtype=np.float32)\n",
    "r.set_look_at(camera_position_np, np.array([0.0, 0.0, 0.0], dtype=np.float32), np.array([-1.0, 0.0, 0.0], dtype=np.float32))\n",
    "#r.set_camera_position(camera_position_np)\n",
    "fov_in_degrees = 35\n",
    "resolution = [768 * 2, 512 * 2]\n",
    "r.set_perspective(\n",
    "    np.pi * fov_in_degrees / 180.0, resolution[0] / resolution[1], 0.1, 1000.0\n",
    ")\n",
    "r.set_mesh(vertices, indices)\n",
    "r.set_light_position(torch.tensor([4.0, 1.0, 4.5], device=\"cuda\"))\n",
    "\n",
    "r.set_width(torch.tensor([0.001], device=\"cuda\"))\n",
    "\n",
    "field = glints.scratch_grid.ScratchField(512, 1)\n",
    "image, sampled_mask = glints.scratch_grid.render_scratch_field(r, resolution, field)\n",
    "test_utils.save_image(image, resolution, \"scratch_field_initial.exr\")\n",
    "target_image = r.prepare_target(\"texture.png\", resolution)\n",
    "#target_image = test_utils.read_image(\"render_010.exr\")\n",
    "\n",
    "loss_fn = torch.nn.MSELoss()\n",
    "regularization_loss_fn = torch.nn.HuberLoss()\n",
    "regularizer = torch.optim.Adam([field.field], lr=0.005)\n",
    "optimizer = torch.optim.Adam([field.field], lr=0.02)"
   ]
  },
  {
   "cell_type": "code",
   "execution_count": null,
   "metadata": {},
   "outputs": [],
   "source": [
    "losses = glints.scratch_grid.optimize_field(\n",
    "    field,\n",
    "    r,\n",
    "    resolution,\n",
    "    gamma_to_linear(target_image),\n",
    "    loss_fn,\n",
    "    regularization_loss_fn,\n",
    "    regularizer,\n",
    "    optimizer,\n",
    "    epochs=500,\n",
    ")\n",
    "\n",
    "plt.plot(losses)\n",
    "plt.show()"
   ]
  },
  {
   "cell_type": "code",
   "execution_count": 15,
   "metadata": {},
   "outputs": [],
   "source": [
    "test_utils.save_image(gamma_to_linear(target_image), resolution, \"target_image.exr\")"
   ]
  },
  {
   "cell_type": "code",
   "execution_count": null,
   "metadata": {},
   "outputs": [],
   "source": [
    "divergence, smoothness = field.calc_divergence_smoothness()\n",
    "save_images(field, resolution, divergence, smoothness)\n",
    "\n",
    "image, sampled_mask = glints.scratch_grid.render_scratch_field(r, resolution, field)\n",
    "test_utils.save_image(image, resolution, \"scratch_field.exr\")\n",
    "\n",
    "directions = torch.rot90(field.field[:, :, 0, :2])\n",
    "\n",
    "\n",
    "test_utils.plot_arrows(directions, \"directions\", spacing=6, filename=\"directions.pdf\")"
   ]
  },
  {
   "cell_type": "code",
   "execution_count": 17,
   "metadata": {},
   "outputs": [],
   "source": [
    "field.field.requires_grad = False\n",
    "field.field = field.field.detach()\n",
    "torch.cuda.empty_cache()"
   ]
  },
  {
   "cell_type": "code",
   "execution_count": 18,
   "metadata": {},
   "outputs": [],
   "source": [
    "# line_counts = []\n",
    "# for density_held in np.linspace(2.0, 3.0, 9):\n",
    "#     lines = field.discretize_to_lines(density_held, 0.4)\n",
    "#     line_counts.append(lines.shape[0])\n",
    "\n",
    "\n",
    "# plt.plot(np.linspace(2.0, 3.0, 9), line_counts)\n",
    "# plt.xlabel(\"Density held\")\n",
    "# plt.ylabel(\"Line count\")\n",
    "# plt.savefig(\"line_count.pdf\")\n",
    "# plt.show()"
   ]
  },
  {
   "cell_type": "code",
   "execution_count": null,
   "metadata": {},
   "outputs": [],
   "source": [
    "lines = field.discretize_to_lines(0.6, 0.5)\n",
    "print(lines.shape)\n",
    "print(lines)"
   ]
  },
  {
   "cell_type": "code",
   "execution_count": 20,
   "metadata": {},
   "outputs": [],
   "source": [
    "# os.chdir(execution_path)\n",
    "# import torch\n",
    "# lines = torch.load(\"lines.pt\")\n",
    "\n",
    "# r = glints.renderer.Renderer()\n",
    "\n",
    "# vertices, indices = glints.renderer.plane_board_scene_vertices_and_indices()\n",
    "# camera_position_np = np.array([4.0, 0.0, 3.5], dtype=np.float32)\n",
    "# r.set_camera_position(camera_position_np)\n",
    "# fov_in_degrees = 35\n",
    "# resolution = [768 * 2, 512 * 2]\n",
    "# r.set_perspective(\n",
    "#     np.pi * fov_in_degrees / 180.0, resolution[0] / resolution[1], 0.1, 1000.0\n",
    "# )\n",
    "# r.set_mesh(vertices, indices)\n",
    "# r.set_light_position(torch.tensor([0.0, 4.0, 4.5], device=\"cuda\"))\n",
    "\n",
    "# r.set_width(torch.tensor([0.001], device=\"cuda\"))"
   ]
  },
  {
   "cell_type": "code",
   "execution_count": 21,
   "metadata": {},
   "outputs": [],
   "source": [
    "#torch.cuda.empty_cache()\n",
    "r.set_type(\"bspline\")\n",
    "\n",
    "image, _ = r.render(resolution, lines)\n",
    "test_utils.save_image(image, resolution, \"lines.exr\")"
   ]
  },
  {
   "cell_type": "code",
   "execution_count": null,
   "metadata": {},
   "outputs": [],
   "source": []
  }
 ],
 "metadata": {
  "kernelspec": {
   "display_name": "Python 3",
   "language": "python",
   "name": "python3"
  },
  "language_info": {
   "codemirror_mode": {
    "name": "ipython",
    "version": 3
   },
   "file_extension": ".py",
   "mimetype": "text/x-python",
   "name": "python",
   "nbconvert_exporter": "python",
   "pygments_lexer": "ipython3",
   "version": "3.10.11"
  }
 },
 "nbformat": 4,
 "nbformat_minor": 2
}
