{
 "cells": [
  {
   "cell_type": "code",
   "execution_count": null,
   "metadata": {},
   "outputs": [],
   "source": [
    "import mitsuba as mi\n",
    "\n",
    "mi.set_variant(\"cuda_ad_rgb\")"
   ]
  },
  {
   "cell_type": "code",
   "execution_count": null,
   "metadata": {},
   "outputs": [],
   "source": [
    "import drjit as dr\n",
    "\n",
    "import LensCamera\n",
    "import importlib\n",
    "\n",
    "importlib.reload(LensCamera)"
   ]
  },
  {
   "cell_type": "code",
   "execution_count": null,
   "metadata": {},
   "outputs": [],
   "source": [
    "scene = mi.load_file(\"./simple.xml\")\n",
    "params = mi.traverse(scene)"
   ]
  },
  {
   "cell_type": "code",
   "execution_count": null,
   "metadata": {},
   "outputs": [],
   "source": [
    "mi.render(scene)\n",
    "original_image = mi.render(scene, spp=128)\n",
    "print(original_image)\n",
    "\n",
    "import matplotlib.pyplot as plt\n",
    "\n",
    "mi.Bitmap(original_image).write(\"test.exr\")"
   ]
  }
 ],
 "metadata": {
  "kernelspec": {
   "display_name": "Python 3",
   "language": "python",
   "name": "python3"
  },
  "language_info": {
   "codemirror_mode": {
    "name": "ipython",
    "version": 3
   },
   "file_extension": ".py",
   "mimetype": "text/x-python",
   "name": "python",
   "nbconvert_exporter": "python",
   "pygments_lexer": "ipython3",
   "version": "3.11.9"
  }
 },
 "nbformat": 4,
 "nbformat_minor": 2
}
